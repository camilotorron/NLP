{
  "nbformat": 4,
  "nbformat_minor": 0,
  "metadata": {
    "colab": {
      "name": "SentimentAnalysis_LTSM.ipynb",
      "provenance": [],
      "collapsed_sections": [],
      "authorship_tag": "ABX9TyOknCvOZ1KaEpKKVcpMJwY9",
      "include_colab_link": true
    },
    "kernelspec": {
      "name": "python3",
      "display_name": "Python 3"
    },
    "language_info": {
      "name": "python"
    },
    "accelerator": "GPU"
  },
  "cells": [
    {
      "cell_type": "markdown",
      "metadata": {
        "id": "view-in-github",
        "colab_type": "text"
      },
      "source": [
        "<a href=\"https://colab.research.google.com/github/camilotorron/NLP/blob/main/SentimentAnalysis_LTSM.ipynb\" target=\"_parent\"><img src=\"https://colab.research.google.com/assets/colab-badge.svg\" alt=\"Open In Colab\"/></a>"
      ]
    },
    {
      "cell_type": "markdown",
      "source": [
        "#**Twitter Sentiment Analysis being 0=no hate, 1=hate**"
      ],
      "metadata": {
        "id": "nDH3JFJYb_Vk"
      }
    },
    {
      "cell_type": "code",
      "execution_count": 3,
      "metadata": {
        "id": "oyuCE8geZYGc"
      },
      "outputs": [],
      "source": [
        "import pandas as pd\n",
        "import numpy as np\n",
        "import nltk\n",
        "from nltk.stem import WordNetLemmatizer\n",
        "import matplotlib.pyplot as plt\n",
        "from copy import deepcopy"
      ]
    },
    {
      "cell_type": "code",
      "source": [
        "df = pd.read_csv('https://raw.githubusercontent.com/shwetachandel/Twitter-Sentiment-Analysis/master/Twitter%20Sentiment%20Analysis/train_E6oV3lV.csv')"
      ],
      "metadata": {
        "id": "clFdLkfobIW0"
      },
      "execution_count": 4,
      "outputs": []
    },
    {
      "cell_type": "code",
      "source": [
        "df.sample(10)"
      ],
      "metadata": {
        "colab": {
          "base_uri": "https://localhost:8080/",
          "height": 363
        },
        "id": "OLFlpygEbOha",
        "outputId": "024cf404-608d-4d0b-a28b-d575ce64e5d4"
      },
      "execution_count": 5,
      "outputs": [
        {
          "output_type": "execute_result",
          "data": {
            "text/html": [
              "\n",
              "  <div id=\"df-c4c9577f-71c1-4e34-a030-7bc1d4ba791d\">\n",
              "    <div class=\"colab-df-container\">\n",
              "      <div>\n",
              "<style scoped>\n",
              "    .dataframe tbody tr th:only-of-type {\n",
              "        vertical-align: middle;\n",
              "    }\n",
              "\n",
              "    .dataframe tbody tr th {\n",
              "        vertical-align: top;\n",
              "    }\n",
              "\n",
              "    .dataframe thead th {\n",
              "        text-align: right;\n",
              "    }\n",
              "</style>\n",
              "<table border=\"1\" class=\"dataframe\">\n",
              "  <thead>\n",
              "    <tr style=\"text-align: right;\">\n",
              "      <th></th>\n",
              "      <th>id</th>\n",
              "      <th>label</th>\n",
              "      <th>tweet</th>\n",
              "    </tr>\n",
              "  </thead>\n",
              "  <tbody>\n",
              "    <tr>\n",
              "      <th>16970</th>\n",
              "      <td>16971</td>\n",
              "      <td>0</td>\n",
              "      <td>mondaymorning  #understanding#sharelove#peace ...</td>\n",
              "    </tr>\n",
              "    <tr>\n",
              "      <th>27412</th>\n",
              "      <td>27413</td>\n",
              "      <td>0</td>\n",
              "      <td>thank you card from viola ó¾ó¾¬  makes our ...</td>\n",
              "    </tr>\n",
              "    <tr>\n",
              "      <th>30819</th>\n",
              "      <td>30820</td>\n",
              "      <td>0</td>\n",
              "      <td>â #usd/cad headed back to 1.2900 as oil rec...</td>\n",
              "    </tr>\n",
              "    <tr>\n",
              "      <th>195</th>\n",
              "      <td>196</td>\n",
              "      <td>0</td>\n",
              "      <td>what a self-serving hypocrite! always keep you...</td>\n",
              "    </tr>\n",
              "    <tr>\n",
              "      <th>24125</th>\n",
              "      <td>24126</td>\n",
              "      <td>0</td>\n",
              "      <td>ðð­ð #0608#wed #ãªã¤ãã¡ãã#æ¸...</td>\n",
              "    </tr>\n",
              "    <tr>\n",
              "      <th>26873</th>\n",
              "      <td>26874</td>\n",
              "      <td>0</td>\n",
              "      <td>this is completely random but i can't believe ...</td>\n",
              "    </tr>\n",
              "    <tr>\n",
              "      <th>13461</th>\n",
              "      <td>13462</td>\n",
              "      <td>0</td>\n",
              "      <td>@user probably to be replaced by ugly, badly b...</td>\n",
              "    </tr>\n",
              "    <tr>\n",
              "      <th>1733</th>\n",
              "      <td>1734</td>\n",
              "      <td>0</td>\n",
              "      <td>â #aud/usd sma cross argues move higher   #...</td>\n",
              "    </tr>\n",
              "    <tr>\n",
              "      <th>30306</th>\n",
              "      <td>30307</td>\n",
              "      <td>0</td>\n",
              "      <td>@user why did you guys change home free so muc...</td>\n",
              "    </tr>\n",
              "    <tr>\n",
              "      <th>6843</th>\n",
              "      <td>6844</td>\n",
              "      <td>0</td>\n",
              "      <td>@user got my @user tickets through for 12th j...</td>\n",
              "    </tr>\n",
              "  </tbody>\n",
              "</table>\n",
              "</div>\n",
              "      <button class=\"colab-df-convert\" onclick=\"convertToInteractive('df-c4c9577f-71c1-4e34-a030-7bc1d4ba791d')\"\n",
              "              title=\"Convert this dataframe to an interactive table.\"\n",
              "              style=\"display:none;\">\n",
              "        \n",
              "  <svg xmlns=\"http://www.w3.org/2000/svg\" height=\"24px\"viewBox=\"0 0 24 24\"\n",
              "       width=\"24px\">\n",
              "    <path d=\"M0 0h24v24H0V0z\" fill=\"none\"/>\n",
              "    <path d=\"M18.56 5.44l.94 2.06.94-2.06 2.06-.94-2.06-.94-.94-2.06-.94 2.06-2.06.94zm-11 1L8.5 8.5l.94-2.06 2.06-.94-2.06-.94L8.5 2.5l-.94 2.06-2.06.94zm10 10l.94 2.06.94-2.06 2.06-.94-2.06-.94-.94-2.06-.94 2.06-2.06.94z\"/><path d=\"M17.41 7.96l-1.37-1.37c-.4-.4-.92-.59-1.43-.59-.52 0-1.04.2-1.43.59L10.3 9.45l-7.72 7.72c-.78.78-.78 2.05 0 2.83L4 21.41c.39.39.9.59 1.41.59.51 0 1.02-.2 1.41-.59l7.78-7.78 2.81-2.81c.8-.78.8-2.07 0-2.86zM5.41 20L4 18.59l7.72-7.72 1.47 1.35L5.41 20z\"/>\n",
              "  </svg>\n",
              "      </button>\n",
              "      \n",
              "  <style>\n",
              "    .colab-df-container {\n",
              "      display:flex;\n",
              "      flex-wrap:wrap;\n",
              "      gap: 12px;\n",
              "    }\n",
              "\n",
              "    .colab-df-convert {\n",
              "      background-color: #E8F0FE;\n",
              "      border: none;\n",
              "      border-radius: 50%;\n",
              "      cursor: pointer;\n",
              "      display: none;\n",
              "      fill: #1967D2;\n",
              "      height: 32px;\n",
              "      padding: 0 0 0 0;\n",
              "      width: 32px;\n",
              "    }\n",
              "\n",
              "    .colab-df-convert:hover {\n",
              "      background-color: #E2EBFA;\n",
              "      box-shadow: 0px 1px 2px rgba(60, 64, 67, 0.3), 0px 1px 3px 1px rgba(60, 64, 67, 0.15);\n",
              "      fill: #174EA6;\n",
              "    }\n",
              "\n",
              "    [theme=dark] .colab-df-convert {\n",
              "      background-color: #3B4455;\n",
              "      fill: #D2E3FC;\n",
              "    }\n",
              "\n",
              "    [theme=dark] .colab-df-convert:hover {\n",
              "      background-color: #434B5C;\n",
              "      box-shadow: 0px 1px 3px 1px rgba(0, 0, 0, 0.15);\n",
              "      filter: drop-shadow(0px 1px 2px rgba(0, 0, 0, 0.3));\n",
              "      fill: #FFFFFF;\n",
              "    }\n",
              "  </style>\n",
              "\n",
              "      <script>\n",
              "        const buttonEl =\n",
              "          document.querySelector('#df-c4c9577f-71c1-4e34-a030-7bc1d4ba791d button.colab-df-convert');\n",
              "        buttonEl.style.display =\n",
              "          google.colab.kernel.accessAllowed ? 'block' : 'none';\n",
              "\n",
              "        async function convertToInteractive(key) {\n",
              "          const element = document.querySelector('#df-c4c9577f-71c1-4e34-a030-7bc1d4ba791d');\n",
              "          const dataTable =\n",
              "            await google.colab.kernel.invokeFunction('convertToInteractive',\n",
              "                                                     [key], {});\n",
              "          if (!dataTable) return;\n",
              "\n",
              "          const docLinkHtml = 'Like what you see? Visit the ' +\n",
              "            '<a target=\"_blank\" href=https://colab.research.google.com/notebooks/data_table.ipynb>data table notebook</a>'\n",
              "            + ' to learn more about interactive tables.';\n",
              "          element.innerHTML = '';\n",
              "          dataTable['output_type'] = 'display_data';\n",
              "          await google.colab.output.renderOutput(dataTable, element);\n",
              "          const docLink = document.createElement('div');\n",
              "          docLink.innerHTML = docLinkHtml;\n",
              "          element.appendChild(docLink);\n",
              "        }\n",
              "      </script>\n",
              "    </div>\n",
              "  </div>\n",
              "  "
            ],
            "text/plain": [
              "          id  label                                              tweet\n",
              "16970  16971      0  mondaymorning  #understanding#sharelove#peace ...\n",
              "27412  27413      0  thank you card from viola ó¾ó¾¬  makes our ...\n",
              "30819  30820      0   â #usd/cad headed back to 1.2900 as oil rec...\n",
              "195      196      0  what a self-serving hypocrite! always keep you...\n",
              "24125  24126      0  ðð­ð #0608#wed #ãªã¤ãã¡ãã#æ¸...\n",
              "26873  26874      0  this is completely random but i can't believe ...\n",
              "13461  13462      0  @user probably to be replaced by ugly, badly b...\n",
              "1733    1734      0   â #aud/usd sma cross argues move higher   #...\n",
              "30306  30307      0  @user why did you guys change home free so muc...\n",
              "6843    6844      0   @user got my @user tickets through for 12th j..."
            ]
          },
          "metadata": {},
          "execution_count": 5
        }
      ]
    },
    {
      "cell_type": "code",
      "source": [
        "df.shape"
      ],
      "metadata": {
        "colab": {
          "base_uri": "https://localhost:8080/"
        },
        "id": "oJiqe4UlbbJ6",
        "outputId": "2ec3ffff-4d57-47c2-f4f0-5ed339d126de"
      },
      "execution_count": 6,
      "outputs": [
        {
          "output_type": "execute_result",
          "data": {
            "text/plain": [
              "(31962, 3)"
            ]
          },
          "metadata": {},
          "execution_count": 6
        }
      ]
    },
    {
      "cell_type": "code",
      "source": [
        "df['label'].value_counts()"
      ],
      "metadata": {
        "colab": {
          "base_uri": "https://localhost:8080/"
        },
        "id": "ymOnQzffbkEk",
        "outputId": "013f9c18-bf5e-4f9b-f723-5542122988c0"
      },
      "execution_count": 7,
      "outputs": [
        {
          "output_type": "execute_result",
          "data": {
            "text/plain": [
              "0    29720\n",
              "1     2242\n",
              "Name: label, dtype: int64"
            ]
          },
          "metadata": {},
          "execution_count": 7
        }
      ]
    },
    {
      "cell_type": "code",
      "source": [
        "!wget http://downloads.cs.stanford.edu/nlp/data/glove.6B.zip\n",
        "!unzip glove.6B.zip"
      ],
      "metadata": {
        "colab": {
          "base_uri": "https://localhost:8080/"
        },
        "id": "OrBiisDeVtCX",
        "outputId": "ee9f5ca7-de70-46cb-bc25-602ccda4a029"
      },
      "execution_count": 8,
      "outputs": [
        {
          "output_type": "stream",
          "name": "stdout",
          "text": [
            "--2022-02-21 19:17:10--  http://downloads.cs.stanford.edu/nlp/data/glove.6B.zip\n",
            "Resolving downloads.cs.stanford.edu (downloads.cs.stanford.edu)... 171.64.64.22\n",
            "Connecting to downloads.cs.stanford.edu (downloads.cs.stanford.edu)|171.64.64.22|:80... connected.\n",
            "HTTP request sent, awaiting response... 200 OK\n",
            "Length: 862182613 (822M) [application/zip]\n",
            "Saving to: ‘glove.6B.zip’\n",
            "\n",
            "glove.6B.zip        100%[===================>] 822.24M  5.04MB/s    in 2m 41s  \n",
            "\n",
            "2022-02-21 19:19:51 (5.10 MB/s) - ‘glove.6B.zip’ saved [862182613/862182613]\n",
            "\n",
            "Archive:  glove.6B.zip\n",
            "  inflating: glove.6B.50d.txt        \n",
            "  inflating: glove.6B.100d.txt       \n",
            "  inflating: glove.6B.200d.txt       \n",
            "  inflating: glove.6B.300d.txt       \n"
          ]
        }
      ]
    },
    {
      "cell_type": "code",
      "source": [
        "words = dict()\n",
        "\n",
        "def add_to_dict(d, file):\n",
        "  with open(file, 'r') as f:\n",
        "    for line in f.readlines():\n",
        "      line = line.split(' ')\n",
        "\n",
        "      try:\n",
        "        d[line[0]] = np.array(line[1:], dtype=float)\n",
        "      except:\n",
        "        continue\n",
        "\n"
      ],
      "metadata": {
        "id": "XlZh-DwyV3G1"
      },
      "execution_count": 9,
      "outputs": []
    },
    {
      "cell_type": "code",
      "source": [
        "#we can choose 50d, 100d, 200d and 300d\n",
        "add_to_dict(words, 'glove.6B.50d.txt')"
      ],
      "metadata": {
        "id": "EtdbKOGhW_kD"
      },
      "execution_count": 10,
      "outputs": []
    },
    {
      "cell_type": "code",
      "source": [
        "list(words.items())[:5]"
      ],
      "metadata": {
        "colab": {
          "base_uri": "https://localhost:8080/"
        },
        "id": "pk5IHl5TXvE7",
        "outputId": "227dc45a-21c3-4037-9233-be91c36961ed"
      },
      "execution_count": 11,
      "outputs": [
        {
          "output_type": "execute_result",
          "data": {
            "text/plain": [
              "[('the',\n",
              "  array([ 4.1800e-01,  2.4968e-01, -4.1242e-01,  1.2170e-01,  3.4527e-01,\n",
              "         -4.4457e-02, -4.9688e-01, -1.7862e-01, -6.6023e-04, -6.5660e-01,\n",
              "          2.7843e-01, -1.4767e-01, -5.5677e-01,  1.4658e-01, -9.5095e-03,\n",
              "          1.1658e-02,  1.0204e-01, -1.2792e-01, -8.4430e-01, -1.2181e-01,\n",
              "         -1.6801e-02, -3.3279e-01, -1.5520e-01, -2.3131e-01, -1.9181e-01,\n",
              "         -1.8823e+00, -7.6746e-01,  9.9051e-02, -4.2125e-01, -1.9526e-01,\n",
              "          4.0071e+00, -1.8594e-01, -5.2287e-01, -3.1681e-01,  5.9213e-04,\n",
              "          7.4449e-03,  1.7778e-01, -1.5897e-01,  1.2041e-02, -5.4223e-02,\n",
              "         -2.9871e-01, -1.5749e-01, -3.4758e-01, -4.5637e-02, -4.4251e-01,\n",
              "          1.8785e-01,  2.7849e-03, -1.8411e-01, -1.1514e-01, -7.8581e-01])),\n",
              " (',', array([ 0.013441,  0.23682 , -0.16899 ,  0.40951 ,  0.63812 ,  0.47709 ,\n",
              "         -0.42852 , -0.55641 , -0.364   , -0.23938 ,  0.13001 , -0.063734,\n",
              "         -0.39575 , -0.48162 ,  0.23291 ,  0.090201, -0.13324 ,  0.078639,\n",
              "         -0.41634 , -0.15428 ,  0.10068 ,  0.48891 ,  0.31226 , -0.1252  ,\n",
              "         -0.037512, -1.5179  ,  0.12612 , -0.02442 , -0.042961, -0.28351 ,\n",
              "          3.5416  , -0.11956 , -0.014533, -0.1499  ,  0.21864 , -0.33412 ,\n",
              "         -0.13872 ,  0.31806 ,  0.70358 ,  0.44858 , -0.080262,  0.63003 ,\n",
              "          0.32111 , -0.46765 ,  0.22786 ,  0.36034 , -0.37818 , -0.56657 ,\n",
              "          0.044691,  0.30392 ])),\n",
              " ('.', array([ 1.5164e-01,  3.0177e-01, -1.6763e-01,  1.7684e-01,  3.1719e-01,\n",
              "          3.3973e-01, -4.3478e-01, -3.1086e-01, -4.4999e-01, -2.9486e-01,\n",
              "          1.6608e-01,  1.1963e-01, -4.1328e-01, -4.2353e-01,  5.9868e-01,\n",
              "          2.8825e-01, -1.1547e-01, -4.1848e-02, -6.7989e-01, -2.5063e-01,\n",
              "          1.8472e-01,  8.6876e-02,  4.6582e-01,  1.5035e-02,  4.3474e-02,\n",
              "         -1.4671e+00, -3.0384e-01, -2.3441e-02,  3.0589e-01, -2.1785e-01,\n",
              "          3.7460e+00,  4.2284e-03, -1.8436e-01, -4.6209e-01,  9.8329e-02,\n",
              "         -1.1907e-01,  2.3919e-01,  1.1610e-01,  4.1705e-01,  5.6763e-02,\n",
              "         -6.3681e-05,  6.8987e-02,  8.7939e-02, -1.0285e-01, -1.3931e-01,\n",
              "          2.2314e-01, -8.0803e-02, -3.5652e-01,  1.6413e-02,  1.0216e-01])),\n",
              " ('of', array([ 0.70853  ,  0.57088  , -0.4716   ,  0.18048  ,  0.54449  ,\n",
              "          0.72603  ,  0.18157  , -0.52393  ,  0.10381  , -0.17566  ,\n",
              "          0.078852 , -0.36216  , -0.11829  , -0.83336  ,  0.11917  ,\n",
              "         -0.16605  ,  0.061555 , -0.012719 , -0.56623  ,  0.013616 ,\n",
              "          0.22851  , -0.14396  , -0.067549 , -0.38157  , -0.23698  ,\n",
              "         -1.7037   , -0.86692  , -0.26704  , -0.2589   ,  0.1767   ,\n",
              "          3.8676   , -0.1613   , -0.13273  , -0.68881  ,  0.18444  ,\n",
              "          0.0052464, -0.33874  , -0.078956 ,  0.24185  ,  0.36576  ,\n",
              "         -0.34727  ,  0.28483  ,  0.075693 , -0.062178 , -0.38988  ,\n",
              "          0.22902  , -0.21617  , -0.22562  , -0.093918 , -0.80375  ])),\n",
              " ('to',\n",
              "  array([ 0.68047 , -0.039263,  0.30186 , -0.17792 ,  0.42962 ,  0.032246,\n",
              "         -0.41376 ,  0.13228 , -0.29847 , -0.085253,  0.17118 ,  0.22419 ,\n",
              "         -0.10046 , -0.43653 ,  0.33418 ,  0.67846 ,  0.057204, -0.34448 ,\n",
              "         -0.42785 , -0.43275 ,  0.55963 ,  0.10032 ,  0.18677 , -0.26854 ,\n",
              "          0.037334, -2.0932  ,  0.22171 , -0.39868 ,  0.20912 , -0.55725 ,\n",
              "          3.8826  ,  0.47466 , -0.95658 , -0.37788 ,  0.20869 , -0.32752 ,\n",
              "          0.12751 ,  0.088359,  0.16351 , -0.21634 , -0.094375,  0.018324,\n",
              "          0.21048 , -0.03088 , -0.19722 ,  0.082279, -0.09434 , -0.073297,\n",
              "         -0.064699, -0.26044 ]))]"
            ]
          },
          "metadata": {},
          "execution_count": 11
        }
      ]
    },
    {
      "cell_type": "code",
      "source": [
        "len(words)"
      ],
      "metadata": {
        "colab": {
          "base_uri": "https://localhost:8080/"
        },
        "id": "yoZHkFp4ZDIJ",
        "outputId": "bd3d359c-f2e8-4b0f-ca9b-3b803c510d14"
      },
      "execution_count": 12,
      "outputs": [
        {
          "output_type": "execute_result",
          "data": {
            "text/plain": [
              "400000"
            ]
          },
          "metadata": {},
          "execution_count": 12
        }
      ]
    },
    {
      "cell_type": "code",
      "source": [
        "nltk.download('wordnet')"
      ],
      "metadata": {
        "colab": {
          "base_uri": "https://localhost:8080/"
        },
        "id": "n7bJ9ATfZT29",
        "outputId": "c30b8d8b-dfbe-443e-a2f6-00902da80d35"
      },
      "execution_count": 13,
      "outputs": [
        {
          "output_type": "stream",
          "name": "stdout",
          "text": [
            "[nltk_data] Downloading package wordnet to /root/nltk_data...\n",
            "[nltk_data]   Unzipping corpora/wordnet.zip.\n"
          ]
        },
        {
          "output_type": "execute_result",
          "data": {
            "text/plain": [
              "True"
            ]
          },
          "metadata": {},
          "execution_count": 13
        }
      ]
    },
    {
      "cell_type": "code",
      "source": [
        "tokenizer = nltk.RegexpTokenizer(r\"\\w+\")"
      ],
      "metadata": {
        "id": "TV0cCpfyZceR"
      },
      "execution_count": 14,
      "outputs": []
    },
    {
      "cell_type": "code",
      "source": [
        "#Testing how tokenizer is working\n",
        "tokenizer.tokenize('@user hello this in one of the many sandwiches i will eat during these holidays')"
      ],
      "metadata": {
        "colab": {
          "base_uri": "https://localhost:8080/"
        },
        "id": "mPgpgkmhZtjp",
        "outputId": "2f8b352b-5cec-4638-9543-76908faa09de"
      },
      "execution_count": 15,
      "outputs": [
        {
          "output_type": "execute_result",
          "data": {
            "text/plain": [
              "['user',\n",
              " 'hello',\n",
              " 'this',\n",
              " 'in',\n",
              " 'one',\n",
              " 'of',\n",
              " 'the',\n",
              " 'many',\n",
              " 'sandwiches',\n",
              " 'i',\n",
              " 'will',\n",
              " 'eat',\n",
              " 'during',\n",
              " 'these',\n",
              " 'holidays']"
            ]
          },
          "metadata": {},
          "execution_count": 15
        }
      ]
    },
    {
      "cell_type": "code",
      "source": [
        "lematizer = WordNetLemmatizer()"
      ],
      "metadata": {
        "id": "SdmlNn1Hat9r"
      },
      "execution_count": 16,
      "outputs": []
    },
    {
      "cell_type": "code",
      "source": [
        "#Check if lematizer is working\n",
        "palabras = ['days', 'apples', 'oranges', 'flowers', 'bikes']\n",
        "for p in palabras:\n",
        "  print(lematizer.lemmatize(p))"
      ],
      "metadata": {
        "colab": {
          "base_uri": "https://localhost:8080/"
        },
        "id": "Z-vvxRT8a9Bo",
        "outputId": "af213fb2-8a0e-415c-8aa1-d62b571eb60f"
      },
      "execution_count": 17,
      "outputs": [
        {
          "output_type": "stream",
          "name": "stdout",
          "text": [
            "day\n",
            "apple\n",
            "orange\n",
            "flower\n",
            "bike\n"
          ]
        }
      ]
    },
    {
      "cell_type": "code",
      "source": [
        "def tweet_to_tokens(tw):\n",
        "  tokens = tokenizer.tokenize(tw)\n",
        "  lc_tokens = [t.lower() for t in tokens]\n",
        "  lem_tokens = [lematizer.lemmatize(t) for t in lc_tokens]\n",
        "  existing_tokens = [t for t in lem_tokens if t in words]\n",
        "  return existing_tokens"
      ],
      "metadata": {
        "id": "f0c0sI_vbkJX"
      },
      "execution_count": 18,
      "outputs": []
    },
    {
      "cell_type": "code",
      "source": [
        "tweet_to_tokens('@user hello this in one of the many sandwiches i will eat during these holidays')"
      ],
      "metadata": {
        "colab": {
          "base_uri": "https://localhost:8080/"
        },
        "id": "s2CSmzo5cTtx",
        "outputId": "8b70ea4d-780c-4136-84d4-d184eeea4235"
      },
      "execution_count": 19,
      "outputs": [
        {
          "output_type": "execute_result",
          "data": {
            "text/plain": [
              "['user',\n",
              " 'hello',\n",
              " 'this',\n",
              " 'in',\n",
              " 'one',\n",
              " 'of',\n",
              " 'the',\n",
              " 'many',\n",
              " 'sandwich',\n",
              " 'i',\n",
              " 'will',\n",
              " 'eat',\n",
              " 'during',\n",
              " 'these',\n",
              " 'holiday']"
            ]
          },
          "metadata": {},
          "execution_count": 19
        }
      ]
    },
    {
      "cell_type": "code",
      "source": [
        "def tweet_to_wordvector(tw, word_dict=words):\n",
        "  list_tokens = tweet_to_tokens(tw)\n",
        "  \n",
        "  vects= []\n",
        "\n",
        "  for token in list_tokens:\n",
        "    if token not in word_dict:\n",
        "      continue\n",
        "    \n",
        "    token_vector = word_dict[token]\n",
        "    vects.append(token_vector)\n",
        "  return vects"
      ],
      "metadata": {
        "id": "7dXRYBhtcgY0"
      },
      "execution_count": 20,
      "outputs": []
    },
    {
      "cell_type": "code",
      "source": [
        "np.array(tweet_to_wordvector('@user hello this in one of the many sandwiches i will eat during these holidays')).shape\n",
        "#this should return 15(words)x50 dimensions"
      ],
      "metadata": {
        "colab": {
          "base_uri": "https://localhost:8080/"
        },
        "id": "8liVkfuFdiho",
        "outputId": "bb336e08-156d-435e-d052-fdb0a4e72e98"
      },
      "execution_count": 21,
      "outputs": [
        {
          "output_type": "execute_result",
          "data": {
            "text/plain": [
              "(15, 50)"
            ]
          },
          "metadata": {},
          "execution_count": 21
        }
      ]
    },
    {
      "cell_type": "markdown",
      "source": [
        "## Prepare the dataset for training"
      ],
      "metadata": {
        "id": "K6oXbo41e1XE"
      }
    },
    {
      "cell_type": "code",
      "source": [
        "df = df.sample(frac=1, random_state=1)\n",
        "df.reset_index(drop=True, inplace=True)\n",
        "\n",
        "#split into 70% train, 15% test, 15% validation\n",
        "i1 = int(len(df)*0.7)\n",
        "i2 = int(len(df)*0.85)\n",
        "\n",
        "train_data, val_data, test_data = df[:i1], df[i1:i2], df[i2:]\n",
        "len(train_data), len(val_data), len(test_data)"
      ],
      "metadata": {
        "colab": {
          "base_uri": "https://localhost:8080/"
        },
        "id": "CyQ5h93nexvt",
        "outputId": "fa729854-aea3-40c7-f333-c9716eef8515"
      },
      "execution_count": 22,
      "outputs": [
        {
          "output_type": "execute_result",
          "data": {
            "text/plain": [
              "(22373, 4794, 4795)"
            ]
          },
          "metadata": {},
          "execution_count": 22
        }
      ]
    },
    {
      "cell_type": "code",
      "source": [
        "def df_to_X_and_y(data):\n",
        "  y=data['label'].to_numpy().astype(int)\n",
        "  wordvectors_tweet = []\n",
        "\n",
        "  for tweet in data['tweet']:\n",
        "    converted = tweet_to_wordvector(tweet)\n",
        "\n",
        "    if np.asarray(converted).shape[0] == 0:\n",
        "      converted = np.zeros(shape=(1,50))\n",
        "    wordvectors_tweet.append(converted)\n",
        "  return wordvectors_tweet , y"
      ],
      "metadata": {
        "id": "FIvGnAYrgrGb"
      },
      "execution_count": 23,
      "outputs": []
    },
    {
      "cell_type": "code",
      "source": [
        "X_train , y_train = df_to_X_and_y(train_data)\n",
        "X_test , y_test = df_to_X_and_y(test_data)\n",
        "X_val , y_val = df_to_X_and_y(val_data)"
      ],
      "metadata": {
        "id": "PpR84VRvhzxj"
      },
      "execution_count": 24,
      "outputs": []
    },
    {
      "cell_type": "code",
      "source": [
        "#check how long are the sequences so we got same lengths\n",
        "\n",
        "lenghts = []\n",
        "for i in range(len(X_train)):\n",
        "  lenghts.append(len(X_train[i]))\n",
        "\n",
        "#plot histogram to see what's going on\n",
        "\n",
        "plt.hist(lenghts)"
      ],
      "metadata": {
        "colab": {
          "base_uri": "https://localhost:8080/",
          "height": 338
        },
        "id": "FG14aqk5igBV",
        "outputId": "ec8a2c73-6a88-4bbf-a980-eead970a7d1d"
      },
      "execution_count": 25,
      "outputs": [
        {
          "output_type": "execute_result",
          "data": {
            "text/plain": [
              "(array([3.493e+03, 7.017e+03, 6.723e+03, 3.786e+03, 1.182e+03, 1.610e+02,\n",
              "        7.000e+00, 0.000e+00, 1.000e+00, 3.000e+00]),\n",
              " array([ 1. ,  6.4, 11.8, 17.2, 22.6, 28. , 33.4, 38.8, 44.2, 49.6, 55. ]),\n",
              " <a list of 10 Patch objects>)"
            ]
          },
          "metadata": {},
          "execution_count": 25
        },
        {
          "output_type": "display_data",
          "data": {
            "image/png": "[encoded data removed]",
            "text/plain": [
              "<Figure size 432x288 with 1 Axes>"
            ]
          },
          "metadata": {
            "needs_background": "light"
          }
        }
      ]
    },
    {
      "cell_type": "code",
      "source": [
        "#conver to pandas series to check statistical scores\n",
        "pd.Series(lenghts).describe()"
      ],
      "metadata": {
        "colab": {
          "base_uri": "https://localhost:8080/"
        },
        "id": "S5b_nbgzknUJ",
        "outputId": "958a765a-6618-4ab2-e47d-695c1d60b003"
      },
      "execution_count": 26,
      "outputs": [
        {
          "output_type": "execute_result",
          "data": {
            "text/plain": [
              "count    22373.000000\n",
              "mean        12.692308\n",
              "std          5.929912\n",
              "min          1.000000\n",
              "25%          8.000000\n",
              "50%         12.000000\n",
              "75%         17.000000\n",
              "max         55.000000\n",
              "dtype: float64"
            ]
          },
          "metadata": {},
          "execution_count": 26
        }
      ]
    },
    {
      "cell_type": "markdown",
      "source": [
        "On average the length is 12 so we have to pad the difference to make all examples the same length"
      ],
      "metadata": {
        "id": "tclK4y18k2VS"
      }
    },
    {
      "cell_type": "code",
      "source": [
        "def padX(X, max_len=57):\n",
        "  x_copy = deepcopy(X)\n",
        "\n",
        "  for i, x in enumerate(X):\n",
        "    actual_len = np.array(x).shape[0]\n",
        "    diff = max_len - actual_len\n",
        "    pad = np.zeros(shape=(diff, 50))\n",
        "    x_copy[i] = np.concatenate([x, pad])\n",
        "    \n",
        "  return np.array(x_copy).astype(float)\n"
      ],
      "metadata": {
        "id": "-PHFrQxDlqM7"
      },
      "execution_count": 27,
      "outputs": []
    },
    {
      "cell_type": "code",
      "source": [
        "X_train = padX(X_train)\n",
        "X_train.shape , y_train.shape"
      ],
      "metadata": {
        "colab": {
          "base_uri": "https://localhost:8080/"
        },
        "id": "0L7w-BAWyGJl",
        "outputId": "73afc6e8-4f99-4e16-edd3-b88d625d074e"
      },
      "execution_count": 28,
      "outputs": [
        {
          "output_type": "execute_result",
          "data": {
            "text/plain": [
              "((22373, 57, 50), (22373,))"
            ]
          },
          "metadata": {},
          "execution_count": 28
        }
      ]
    },
    {
      "cell_type": "code",
      "source": [
        "X_val = padX(X_val)\n",
        "X_test = padX(X_test)\n"
      ],
      "metadata": {
        "id": "z2n3sGtP1JXS"
      },
      "execution_count": 29,
      "outputs": []
    },
    {
      "cell_type": "code",
      "source": [
        "from tensorflow.keras import layers\n",
        "from tensorflow.keras import Sequential\n",
        "\n",
        "model = Sequential([])\n",
        "model.add(layers.Input(shape = (57, 50)))\n",
        "model.add(layers.LSTM(128, return_sequences=True))\n",
        "model.add(layers.Dropout(0.2))\n",
        "model.add(layers.LSTM(64, return_sequences=True))\n",
        "model.add(layers.Dropout(0.2))\n",
        "model.add(layers.LSTM(32, return_sequences=True))\n",
        "model.add(layers.Dropout(0.2))\n",
        "model.add(layers.Flatten())\n",
        "model.add(layers.Dense(1, activation='sigmoid'))\n",
        "\n",
        "model.summary()"
      ],
      "metadata": {
        "colab": {
          "base_uri": "https://localhost:8080/"
        },
        "id": "6rYn2asty7qv",
        "outputId": "6241503e-0a1b-4063-fa7b-d3c508a585d6"
      },
      "execution_count": 30,
      "outputs": [
        {
          "output_type": "stream",
          "name": "stdout",
          "text": [
            "Model: \"sequential\"\n",
            "_________________________________________________________________\n",
            " Layer (type)                Output Shape              Param #   \n",
            "=================================================================\n",
            " lstm (LSTM)                 (None, 57, 128)           91648     \n",
            "                                                                 \n",
            " dropout (Dropout)           (None, 57, 128)           0         \n",
            "                                                                 \n",
            " lstm_1 (LSTM)               (None, 57, 64)            49408     \n",
            "                                                                 \n",
            " dropout_1 (Dropout)         (None, 57, 64)            0         \n",
            "                                                                 \n",
            " lstm_2 (LSTM)               (None, 57, 32)            12416     \n",
            "                                                                 \n",
            " dropout_2 (Dropout)         (None, 57, 32)            0         \n",
            "                                                                 \n",
            " flatten (Flatten)           (None, 1824)              0         \n",
            "                                                                 \n",
            " dense (Dense)               (None, 1)                 1825      \n",
            "                                                                 \n",
            "=================================================================\n",
            "Total params: 155,297\n",
            "Trainable params: 155,297\n",
            "Non-trainable params: 0\n",
            "_________________________________________________________________\n"
          ]
        }
      ]
    },
    {
      "cell_type": "code",
      "source": [
        "from tensorflow.keras.losses import BinaryCrossentropy\n",
        "from tensorflow.keras.optimizers import Adam\n",
        "from tensorflow.keras.metrics import AUC\n",
        "from tensorflow.keras.callbacks import ModelCheckpoint\n",
        "\n",
        "#cp = ModelCheckpoint('model/', save_best_only=True)\n",
        "\n",
        "model.compile(optimizer=Adam(learning_rate=0.0001), \n",
        "              loss=BinaryCrossentropy(), \n",
        "              metrics=['accuracy', AUC(name='auc')])"
      ],
      "metadata": {
        "id": "PZSujGh8zt4g"
      },
      "execution_count": 31,
      "outputs": []
    },
    {
      "cell_type": "code",
      "source": [
        "#because the dataset is inbalanced, try to pay attention to the \"hate\" examples\n",
        "\n",
        "frequencies = pd.value_counts(df['label'])\n",
        "weights = {0: frequencies.sum() / frequencies[0], 1: frequencies.sum() / frequencies[1]}"
      ],
      "metadata": {
        "id": "ddUk9uZV7nFF"
      },
      "execution_count": 32,
      "outputs": []
    },
    {
      "cell_type": "code",
      "source": [
        "model.fit(X_train, y_train, validation_data=(X_val, y_val), epochs=20, class_weight=weights)"
      ],
      "metadata": {
        "colab": {
          "base_uri": "https://localhost:8080/"
        },
        "id": "rtb5aj5C0BoY",
        "outputId": "acdc9fef-0e3e-4ca0-a0ee-1ec337e06a76"
      },
      "execution_count": 33,
      "outputs": [
        {
          "output_type": "stream",
          "name": "stdout",
          "text": [
            "Epoch 1/20\n",
            "700/700 [==============================] - 46s 50ms/step - loss: 0.9684 - accuracy: 0.7470 - auc: 0.8494 - val_loss: 0.4200 - val_accuracy: 0.8181 - val_auc: 0.8903\n",
            "Epoch 2/20\n",
            "700/700 [==============================] - 33s 48ms/step - loss: 0.8027 - accuracy: 0.8188 - auc: 0.8981 - val_loss: 0.5357 - val_accuracy: 0.7607 - val_auc: 0.8979\n",
            "Epoch 3/20\n",
            "700/700 [==============================] - 34s 49ms/step - loss: 0.7710 - accuracy: 0.8281 - auc: 0.9064 - val_loss: 0.4214 - val_accuracy: 0.8108 - val_auc: 0.9054\n",
            "Epoch 4/20\n",
            "700/700 [==============================] - 33s 48ms/step - loss: 0.7477 - accuracy: 0.8289 - auc: 0.9124 - val_loss: 0.3290 - val_accuracy: 0.8688 - val_auc: 0.9105\n",
            "Epoch 5/20\n",
            "700/700 [==============================] - 33s 47ms/step - loss: 0.7193 - accuracy: 0.8415 - auc: 0.9192 - val_loss: 0.3061 - val_accuracy: 0.8700 - val_auc: 0.9100\n",
            "Epoch 6/20\n",
            "700/700 [==============================] - 33s 47ms/step - loss: 0.6938 - accuracy: 0.8438 - auc: 0.9249 - val_loss: 0.2790 - val_accuracy: 0.8901 - val_auc: 0.9166\n",
            "Epoch 7/20\n",
            "700/700 [==============================] - 33s 47ms/step - loss: 0.6840 - accuracy: 0.8413 - auc: 0.9270 - val_loss: 0.3097 - val_accuracy: 0.8650 - val_auc: 0.9180\n",
            "Epoch 8/20\n",
            "700/700 [==============================] - 33s 48ms/step - loss: 0.6642 - accuracy: 0.8434 - auc: 0.9312 - val_loss: 0.4132 - val_accuracy: 0.8127 - val_auc: 0.9186\n",
            "Epoch 9/20\n",
            "700/700 [==============================] - 33s 47ms/step - loss: 0.6411 - accuracy: 0.8525 - auc: 0.9360 - val_loss: 0.3384 - val_accuracy: 0.8458 - val_auc: 0.9202\n",
            "Epoch 10/20\n",
            "700/700 [==============================] - 33s 48ms/step - loss: 0.6205 - accuracy: 0.8528 - auc: 0.9401 - val_loss: 0.2686 - val_accuracy: 0.8878 - val_auc: 0.9194\n",
            "Epoch 11/20\n",
            "700/700 [==============================] - 33s 47ms/step - loss: 0.6097 - accuracy: 0.8547 - auc: 0.9420 - val_loss: 0.3796 - val_accuracy: 0.8227 - val_auc: 0.9232\n",
            "Epoch 12/20\n",
            "700/700 [==============================] - 33s 48ms/step - loss: 0.5865 - accuracy: 0.8626 - auc: 0.9463 - val_loss: 0.3268 - val_accuracy: 0.8406 - val_auc: 0.9244\n",
            "Epoch 13/20\n",
            "700/700 [==============================] - 33s 48ms/step - loss: 0.5770 - accuracy: 0.8582 - auc: 0.9482 - val_loss: 0.2272 - val_accuracy: 0.9047 - val_auc: 0.9262\n",
            "Epoch 14/20\n",
            "700/700 [==============================] - 33s 47ms/step - loss: 0.5591 - accuracy: 0.8666 - auc: 0.9510 - val_loss: 0.3198 - val_accuracy: 0.8573 - val_auc: 0.9259\n",
            "Epoch 15/20\n",
            "700/700 [==============================] - 33s 47ms/step - loss: 0.5527 - accuracy: 0.8660 - auc: 0.9518 - val_loss: 0.3369 - val_accuracy: 0.8415 - val_auc: 0.9270\n",
            "Epoch 16/20\n",
            "700/700 [==============================] - 33s 47ms/step - loss: 0.5413 - accuracy: 0.8658 - auc: 0.9534 - val_loss: 0.4355 - val_accuracy: 0.7895 - val_auc: 0.9231\n",
            "Epoch 17/20\n",
            "700/700 [==============================] - 33s 47ms/step - loss: 0.5102 - accuracy: 0.8757 - auc: 0.9588 - val_loss: 0.2301 - val_accuracy: 0.9028 - val_auc: 0.9258\n",
            "Epoch 18/20\n",
            "700/700 [==============================] - 33s 47ms/step - loss: 0.5086 - accuracy: 0.8811 - auc: 0.9592 - val_loss: 0.2640 - val_accuracy: 0.8798 - val_auc: 0.9251\n",
            "Epoch 19/20\n",
            "700/700 [==============================] - 33s 47ms/step - loss: 0.4845 - accuracy: 0.8835 - auc: 0.9624 - val_loss: 0.3045 - val_accuracy: 0.8613 - val_auc: 0.9249\n",
            "Epoch 20/20\n",
            "700/700 [==============================] - 33s 47ms/step - loss: 0.4716 - accuracy: 0.8875 - auc: 0.9646 - val_loss: 0.3367 - val_accuracy: 0.8438 - val_auc: 0.9267\n"
          ]
        },
        {
          "output_type": "execute_result",
          "data": {
            "text/plain": [
              "<keras.callbacks.History at 0x7f91c03e3110>"
            ]
          },
          "metadata": {},
          "execution_count": 33
        }
      ]
    },
    {
      "cell_type": "code",
      "source": [
        "test_predictions = (model.predict(X_test) > 0.5).astype(int)\n",
        "\n",
        "from sklearn.metrics import classification_report\n",
        "\n",
        "print(classification_report(y_test, test_predictions))"
      ],
      "metadata": {
        "colab": {
          "base_uri": "https://localhost:8080/"
        },
        "id": "3HsDQeJ30ebw",
        "outputId": "2ddbd9c0-5aed-42a6-c3b5-e8d6085c249c"
      },
      "execution_count": 34,
      "outputs": [
        {
          "output_type": "stream",
          "name": "stdout",
          "text": [
            "              precision    recall  f1-score   support\n",
            "\n",
            "           0       0.99      0.83      0.90      4454\n",
            "           1       0.28      0.88      0.43       341\n",
            "\n",
            "    accuracy                           0.83      4795\n",
            "   macro avg       0.63      0.85      0.66      4795\n",
            "weighted avg       0.94      0.83      0.87      4795\n",
            "\n"
          ]
        }
      ]
    }
  ]
}